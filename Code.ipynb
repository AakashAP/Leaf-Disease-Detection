{
 "cells": [
  {
   "cell_type": "markdown",
   "id": "f088332a",
   "metadata": {},
   "source": [
    "# Import Libraries"
   ]
  },
  {
   "cell_type": "code",
   "execution_count": null,
   "id": "7d33626c",
   "metadata": {},
   "outputs": [],
   "source": [
    "import tensorflow as tf\n",
    "import numpy as np\n",
    "import matplotlib.pyplot as plot"
   ]
  },
  {
   "cell_type": "markdown",
   "id": "8ddef445",
   "metadata": {},
   "source": [
    "# Dataset"
   ]
  },
  {
   "cell_type": "markdown",
   "id": "adcedead",
   "metadata": {},
   "source": [
    "### Dataset Location"
   ]
  },
  {
   "cell_type": "code",
   "execution_count": null,
   "id": "7ac45ebc",
   "metadata": {},
   "outputs": [],
   "source": [
    "TrainFolder = r'C:\\Users\\Aakash Maurya\\Documents\\Leaf Disease Detection\\Dataset\\train'\n",
    "TestFolder = r'C:\\Users\\Aakash Maurya\\Documents\\Leaf Disease Detection\\Dataset\\val'"
   ]
  },
  {
   "cell_type": "code",
   "execution_count": null,
   "id": "b90db06e",
   "metadata": {},
   "outputs": [],
   "source": [
    "IMG_SIZE = (112, 112)\n",
    "BATCH_SIZE = 32\n",
    "\n",
    "TrainData = tf.keras.preprocessing.image_dataset_from_directory(\n",
    "    directory = TrainFolder,\n",
    "    image_size = IMG_SIZE,\n",
    "    label_mode = 'categorical',\n",
    "    batch_size = BATCH_SIZE,\n",
    "#     shuffle = True,\n",
    "#     seed=42\n",
    ").cache().shuffle(1000).prefetch(buffer_size=tf.data.AUTOTUNE)\n",
    "\n",
    "TestData = tf.keras.preprocessing.image_dataset_from_directory(\n",
    "    directory = TestFolder,\n",
    "    image_size = IMG_SIZE,\n",
    "    label_mode = 'categorical',\n",
    "    batch_size = BATCH_SIZE\n",
    ")\n",
    "\n",
    "ClassList = TestData.class_names\n",
    "ValidData = TestData.cache().prefetch(buffer_size=tf.data.AUTOTUNE)"
   ]
  },
  {
   "cell_type": "code",
   "execution_count": null,
   "id": "e8e9f547",
   "metadata": {},
   "outputs": [],
   "source": [
    "plot.figure(figsize=(18,10))\n",
    "for ImageBatch, LabelBatch in TrainData.take(1):\n",
    "    for i in range(0,12):\n",
    "        plot.subplot(3,4,i+1)\n",
    "        plot.imshow(ImageBatch[i].numpy().astype(\"uint32\"))\n",
    "        plot.title(ClassList[np.argmax(LabelBatch[i])])\n",
    "        plot.axis(\"off\")"
   ]
  },
  {
   "cell_type": "markdown",
   "id": "5d11a1da",
   "metadata": {},
   "source": [
    "### Model for Data Augmentation"
   ]
  },
  {
   "cell_type": "code",
   "execution_count": null,
   "id": "aaf1701e",
   "metadata": {},
   "outputs": [],
   "source": [
    "DataAugmentation = tf.keras.Sequential([\n",
    "  tf.keras.layers.experimental.preprocessing.RandomFlip(\"horizontal\", input_shape=(112, 112, 3)),\n",
    "  tf.keras.layers.experimental.preprocessing.RandomRotation(0.2),\n",
    "  tf.keras.layers.experimental.preprocessing.RandomZoom(0.2),\n",
    "  tf.keras.layers.experimental.preprocessing.RandomHeight(0.2),\n",
    "  tf.keras.layers.experimental.preprocessing.RandomWidth(0.2),\n",
    "  tf.keras.layers.experimental.preprocessing.Rescaling(1./255)\n",
    "], name =\"DataAugmentation\")"
   ]
  },
  {
   "cell_type": "markdown",
   "id": "6202e9f5",
   "metadata": {},
   "source": [
    "### Result of Data Augmentation"
   ]
  },
  {
   "cell_type": "code",
   "execution_count": null,
   "id": "03a73497",
   "metadata": {},
   "outputs": [],
   "source": [
    "plot.figure(figsize=(10,10))\n",
    "for ImageBatch, LabelBatch in TrainData.take(1):\n",
    "    AugmentedImage = DataAugmentation(ImageBatch)\n",
    "    ImagePlotLen = len(ImageBatch) if len(ImageBatch) < 4 else 4\n",
    "    for i in range(0, ImagePlotLen):\n",
    "        plot.subplot(ImagePlotLen, 2, 2*i+1)\n",
    "        plot.imshow(ImageBatch[i].numpy().astype(\"uint32\"))\n",
    "        plot.title(ClassList[np.argmax(LabelBatch[i])])\n",
    "        plot.axis(\"off\")\n",
    "        plot.subplot(ImagePlotLen, 2, 2*i+2)\n",
    "        plot.imshow(AugmentedImage[i])\n",
    "        plot.title(f\"augmented\")\n",
    "        plot.axis(\"off\")"
   ]
  },
  {
   "cell_type": "code",
   "execution_count": null,
   "id": "271e017a",
   "metadata": {},
   "outputs": [],
   "source": [
    "Checkpoint = \"CheckPoint/cp.ckpt\"\n",
    "Checkpoint_Callback = tf.keras.callbacks.ModelCheckpoint(\n",
    "    Checkpoint,\n",
    "    save_weights_only=True,\n",
    "    monitor='val_accuracy',\n",
    "    save_best_only=True\n",
    ")"
   ]
  },
  {
   "cell_type": "markdown",
   "id": "e2016dc5",
   "metadata": {},
   "source": [
    "# Model Creation"
   ]
  },
  {
   "cell_type": "markdown",
   "id": "0c3edd2f",
   "metadata": {},
   "source": [
    "### Custom"
   ]
  },
  {
   "cell_type": "code",
   "execution_count": null,
   "id": "8e3003d0",
   "metadata": {},
   "outputs": [],
   "source": [
    "Model = tf.keras.Sequential([\n",
    "    DataAugmentation,\n",
    "    tf.keras.layers.Conv2D(32, 3, activation='relu'),\n",
    "    tf.keras.layers.MaxPool2D(pool_size=2),\n",
    "    tf.keras.layers.Conv2D(16, 3, activation='relu'),\n",
    "    tf.keras.layers.MaxPool2D(pool_size=2),\n",
    "    tf.keras.layers.Conv2D(32, 3, activation='relu'),\n",
    "    tf.keras.layers.MaxPool2D(pool_size=2),\n",
    "    tf.keras.layers.GlobalAveragePooling2D(),\n",
    "    tf.keras.layers.Dense(len(ClassList), activation='softmax', name='output_layers')\n",
    "])"
   ]
  },
  {
   "cell_type": "code",
   "execution_count": null,
   "id": "4b6d3497",
   "metadata": {},
   "outputs": [],
   "source": [
    "Model.compile(\n",
    "    loss = 'categorical_crossentropy',\n",
    "    optimizer = tf.keras.optimizers.Adam(),\n",
    "    metrics = ['accuracy']\n",
    ")"
   ]
  },
  {
   "cell_type": "code",
   "execution_count": null,
   "id": "06825b82",
   "metadata": {
    "scrolled": true
   },
   "outputs": [],
   "source": [
    "History = Model.fit(\n",
    "    TrainData,\n",
    "    epochs=100,\n",
    "    steps_per_epoch=len(TrainData),\n",
    "    validation_data = TestData,\n",
    "    validation_steps = len(TestData),\n",
    "    callbacks = [\n",
    "        Checkpoint_Callback\n",
    "    ]\n",
    ")"
   ]
  },
  {
   "cell_type": "code",
   "execution_count": null,
   "id": "f99ff100",
   "metadata": {},
   "outputs": [],
   "source": [
    "Model.summary()"
   ]
  },
  {
   "cell_type": "markdown",
   "id": "a3638eec",
   "metadata": {},
   "source": [
    "### Pretrained"
   ]
  },
  {
   "cell_type": "code",
   "execution_count": null,
   "id": "fc972975",
   "metadata": {},
   "outputs": [],
   "source": [
    "Model.load_weights(Checkpoint)"
   ]
  },
  {
   "cell_type": "code",
   "execution_count": null,
   "id": "c24f1d3c",
   "metadata": {},
   "outputs": [],
   "source": [
    "Model.evaluate(TrainData), Model.evaluate(TestData)"
   ]
  },
  {
   "cell_type": "code",
   "execution_count": null,
   "id": "7a6056da",
   "metadata": {},
   "outputs": [],
   "source": [
    "Pretrained_Model = tf.keras.models.load_model(\"Pretrained Model.h5\")"
   ]
  },
  {
   "cell_type": "code",
   "execution_count": null,
   "id": "285f00a7",
   "metadata": {},
   "outputs": [],
   "source": [
    "Pretrained_Model.summary()"
   ]
  },
  {
   "cell_type": "markdown",
   "id": "03861646",
   "metadata": {},
   "source": [
    "# Model Comparison"
   ]
  },
  {
   "cell_type": "code",
   "execution_count": null,
   "id": "523380ca",
   "metadata": {},
   "outputs": [],
   "source": [
    "Model.evaluate(TrainData), Model.evaluate(TestData)"
   ]
  },
  {
   "cell_type": "code",
   "execution_count": null,
   "id": "33ce6788",
   "metadata": {},
   "outputs": [],
   "source": [
    "Pretrained_Model.evaluate(TrainData), Pretrained_Model.evaluate(TestData)"
   ]
  }
 ],
 "metadata": {
  "kernelspec": {
   "display_name": "Python 3 (ipykernel)",
   "language": "python",
   "name": "python3"
  },
  "language_info": {
   "codemirror_mode": {
    "name": "ipython",
    "version": 3
   },
   "file_extension": ".py",
   "mimetype": "text/x-python",
   "name": "python",
   "nbconvert_exporter": "python",
   "pygments_lexer": "ipython3",
   "version": "3.10.6"
  }
 },
 "nbformat": 4,
 "nbformat_minor": 5
}
